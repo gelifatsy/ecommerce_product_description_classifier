{
 "cells": [
  {
   "cell_type": "markdown",
   "metadata": {},
   "source": [
    "## Import packages"
   ]
  },
  {
   "cell_type": "code",
   "execution_count": 61,
   "metadata": {},
   "outputs": [],
   "source": [
    "import os\n",
    "import pickle\n",
    "import tensorflow as tf\n",
    "import numpy as np\n",
    "from tensorflow.keras.models import Sequential\n",
    "from tensorflow.keras.layers import Dense, Dropout, Embedding\n",
    "from sklearn.model_selection import train_test_split\n",
    "from tensorflow.keras.callbacks import EarlyStopping\n",
    "from sklearn.preprocessing import LabelEncoder\n",
    "from tensorflow.keras.preprocessing.sequence import pad_sequences\n",
    "from tensorflow.keras.preprocessing.text import Tokenizer"
   ]
  },
  {
   "cell_type": "markdown",
   "metadata": {},
   "source": [
    "## Load the file"
   ]
  },
  {
   "cell_type": "code",
   "execution_count": 62,
   "metadata": {},
   "outputs": [],
   "source": [
    "\n",
    "directory = os.path.join(os.path.dirname(os.getcwd()), 'data', 'processed')\n",
    "preprocessed_data_path = os.path.join(directory, 'preprocessed_data.pkl')\n",
    "\n",
    "with open(preprocessed_data_path, 'rb') as file:\n",
    "    preprocessed_data = pickle.load(file)"
   ]
  },
  {
   "cell_type": "code",
   "execution_count": 63,
   "metadata": {},
   "outputs": [],
   "source": [
    "\n",
    "\n",
    "padded_sequences = preprocessed_data['padded_sequences']\n",
    "input_shape = preprocessed_data['input_shape']\n",
    "num_classes = preprocessed_data['num_classes']\n",
    "vocab_size = preprocessed_data['vocab_size']\n",
    "preprocessed_df = preprocessed_data['preprocessed_df']"
   ]
  },
  {
   "cell_type": "code",
   "execution_count": 64,
   "metadata": {},
   "outputs": [],
   "source": [
    "\n",
    "# Create a new Tokenizer instance and fit it on the text data for both input and target labels\n",
    "tokenizer = Tokenizer()\n",
    "tokenizer.fit_on_texts(preprocessed_df['description'])  # Assuming 'description' is the column containing text data"
   ]
  },
  {
   "cell_type": "code",
   "execution_count": 65,
   "metadata": {},
   "outputs": [],
   "source": [
    "# Split the data into training and testing sets consistently for both input and target labels\n",
    "train_sequences, test_sequences, train_labels, test_labels = train_test_split(\n",
    "    preprocessed_df['description'],  # Assuming 'description' is the column containing text data\n",
    "    preprocessed_df['category'],  # Assuming 'category' is the column containing category labels\n",
    "    test_size=0.2,\n",
    "    random_state=42\n",
    ")\n"
   ]
  },
  {
   "cell_type": "code",
   "execution_count": 66,
   "metadata": {},
   "outputs": [],
   "source": [
    "\n",
    "# Convert the target labels to integer encoding\n",
    "label_encoder = LabelEncoder()\n",
    "train_labels_encoded = label_encoder.fit_transform(train_labels)\n",
    "test_labels_encoded = label_encoder.transform(test_labels)\n",
    "\n",
    "# Get the padded sequences for the training and testing data\n",
    "train_sequences = pad_sequences(tokenizer.texts_to_sequences(train_sequences), maxlen=input_shape[0])\n",
    "test_sequences = pad_sequences(tokenizer.texts_to_sequences(test_sequences), maxlen=input_shape[0])\n",
    "\n",
    "# Define early stopping\n",
    "early_stopping = EarlyStopping(monitor='val_loss', patience=5, restore_best_weights=True)"
   ]
  },
  {
   "cell_type": "code",
   "execution_count": 67,
   "metadata": {},
   "outputs": [
    {
     "name": "stderr",
     "output_type": "stream",
     "text": [
      "c:\\Users\\Elias_A\\Documents\\AI Engineer (mfx) Assessment at payever\\venv\\Lib\\site-packages\\keras\\src\\layers\\core\\embedding.py:86: UserWarning: Argument `input_length` is deprecated. Just remove it.\n",
      "  warnings.warn(\n"
     ]
    }
   ],
   "source": [
    "# Define the model with the correct output layer\n",
    "model = Sequential([\n",
    "    Embedding(vocab_size, 64, input_length=input_shape[0]),\n",
    "    tf.keras.layers.GlobalAveragePooling1D(),\n",
    "    Dense(128, activation='relu'),\n",
    "    Dense(num_classes, activation='softmax')  # Ensure the output layer matches the number of classes\n",
    "])"
   ]
  },
  {
   "cell_type": "code",
   "execution_count": 68,
   "metadata": {},
   "outputs": [],
   "source": [
    "# Compile the model\n",
    "model.compile(optimizer='adam', loss='sparse_categorical_crossentropy', metrics=['accuracy'])\n",
    "\n",
    "# Ensure the number of samples in input data and target labels are consistent\n",
    "assert len(train_sequences) == len(train_labels_encoded), \"Number of samples in input data and target labels must be the same\""
   ]
  },
  {
   "cell_type": "code",
   "execution_count": 69,
   "metadata": {},
   "outputs": [
    {
     "name": "stdout",
     "output_type": "stream",
     "text": [
      "Epoch 1/50\n",
      "3/3 - 2s - 526ms/step - accuracy: 0.3750 - loss: 1.3839 - val_accuracy: 1.0000 - val_loss: 1.3757\n",
      "Epoch 2/50\n",
      "3/3 - 0s - 22ms/step - accuracy: 1.0000 - loss: 1.3728 - val_accuracy: 1.0000 - val_loss: 1.3676\n",
      "Epoch 3/50\n",
      "3/3 - 0s - 22ms/step - accuracy: 1.0000 - loss: 1.3633 - val_accuracy: 1.0000 - val_loss: 1.3582\n",
      "Epoch 4/50\n",
      "3/3 - 0s - 22ms/step - accuracy: 1.0000 - loss: 1.3530 - val_accuracy: 1.0000 - val_loss: 1.3475\n",
      "Epoch 5/50\n",
      "3/3 - 0s - 25ms/step - accuracy: 1.0000 - loss: 1.3412 - val_accuracy: 1.0000 - val_loss: 1.3347\n",
      "Epoch 6/50\n",
      "3/3 - 0s - 24ms/step - accuracy: 1.0000 - loss: 1.3276 - val_accuracy: 1.0000 - val_loss: 1.3203\n",
      "Epoch 7/50\n",
      "3/3 - 0s - 21ms/step - accuracy: 1.0000 - loss: 1.3122 - val_accuracy: 1.0000 - val_loss: 1.3031\n",
      "Epoch 8/50\n",
      "3/3 - 0s - 24ms/step - accuracy: 1.0000 - loss: 1.2939 - val_accuracy: 1.0000 - val_loss: 1.2829\n",
      "Epoch 9/50\n",
      "3/3 - 0s - 21ms/step - accuracy: 1.0000 - loss: 1.2730 - val_accuracy: 1.0000 - val_loss: 1.2597\n",
      "Epoch 10/50\n",
      "3/3 - 0s - 23ms/step - accuracy: 1.0000 - loss: 1.2486 - val_accuracy: 1.0000 - val_loss: 1.2336\n",
      "Epoch 11/50\n",
      "3/3 - 0s - 26ms/step - accuracy: 1.0000 - loss: 1.2212 - val_accuracy: 1.0000 - val_loss: 1.2043\n",
      "Epoch 12/50\n",
      "3/3 - 0s - 27ms/step - accuracy: 1.0000 - loss: 1.1905 - val_accuracy: 1.0000 - val_loss: 1.1714\n",
      "Epoch 13/50\n",
      "3/3 - 0s - 20ms/step - accuracy: 1.0000 - loss: 1.1553 - val_accuracy: 1.0000 - val_loss: 1.1333\n",
      "Epoch 14/50\n",
      "3/3 - 0s - 20ms/step - accuracy: 1.0000 - loss: 1.1161 - val_accuracy: 1.0000 - val_loss: 1.0907\n",
      "Epoch 15/50\n",
      "3/3 - 0s - 20ms/step - accuracy: 1.0000 - loss: 1.0731 - val_accuracy: 1.0000 - val_loss: 1.0448\n",
      "Epoch 16/50\n",
      "3/3 - 0s - 21ms/step - accuracy: 1.0000 - loss: 1.0251 - val_accuracy: 1.0000 - val_loss: 0.9939\n",
      "Epoch 17/50\n",
      "3/3 - 0s - 26ms/step - accuracy: 1.0000 - loss: 0.9739 - val_accuracy: 1.0000 - val_loss: 0.9393\n",
      "Epoch 18/50\n",
      "3/3 - 0s - 27ms/step - accuracy: 1.0000 - loss: 0.9189 - val_accuracy: 1.0000 - val_loss: 0.8819\n",
      "Epoch 19/50\n",
      "3/3 - 0s - 52ms/step - accuracy: 1.0000 - loss: 0.8602 - val_accuracy: 1.0000 - val_loss: 0.8208\n",
      "Epoch 20/50\n",
      "3/3 - 0s - 20ms/step - accuracy: 1.0000 - loss: 0.7988 - val_accuracy: 1.0000 - val_loss: 0.7581\n",
      "Epoch 21/50\n",
      "3/3 - 0s - 20ms/step - accuracy: 1.0000 - loss: 0.7350 - val_accuracy: 1.0000 - val_loss: 0.6937\n",
      "Epoch 22/50\n",
      "3/3 - 0s - 23ms/step - accuracy: 1.0000 - loss: 0.6706 - val_accuracy: 1.0000 - val_loss: 0.6302\n",
      "Epoch 23/50\n",
      "3/3 - 0s - 25ms/step - accuracy: 1.0000 - loss: 0.6063 - val_accuracy: 1.0000 - val_loss: 0.5668\n",
      "Epoch 24/50\n",
      "3/3 - 0s - 21ms/step - accuracy: 1.0000 - loss: 0.5427 - val_accuracy: 1.0000 - val_loss: 0.5049\n",
      "Epoch 25/50\n",
      "3/3 - 0s - 22ms/step - accuracy: 1.0000 - loss: 0.4815 - val_accuracy: 1.0000 - val_loss: 0.4454\n",
      "Epoch 26/50\n",
      "3/3 - 0s - 28ms/step - accuracy: 1.0000 - loss: 0.4230 - val_accuracy: 1.0000 - val_loss: 0.3904\n",
      "Epoch 27/50\n",
      "3/3 - 0s - 21ms/step - accuracy: 1.0000 - loss: 0.3695 - val_accuracy: 1.0000 - val_loss: 0.3386\n",
      "Epoch 28/50\n",
      "3/3 - 0s - 22ms/step - accuracy: 1.0000 - loss: 0.3202 - val_accuracy: 1.0000 - val_loss: 0.2920\n",
      "Epoch 29/50\n",
      "3/3 - 0s - 24ms/step - accuracy: 1.0000 - loss: 0.2752 - val_accuracy: 1.0000 - val_loss: 0.2506\n",
      "Epoch 30/50\n",
      "3/3 - 0s - 40ms/step - accuracy: 1.0000 - loss: 0.2356 - val_accuracy: 1.0000 - val_loss: 0.2142\n",
      "Epoch 31/50\n",
      "3/3 - 0s - 21ms/step - accuracy: 1.0000 - loss: 0.2011 - val_accuracy: 1.0000 - val_loss: 0.1827\n",
      "Epoch 32/50\n",
      "3/3 - 0s - 21ms/step - accuracy: 1.0000 - loss: 0.1714 - val_accuracy: 1.0000 - val_loss: 0.1561\n",
      "Epoch 33/50\n",
      "3/3 - 0s - 22ms/step - accuracy: 1.0000 - loss: 0.1463 - val_accuracy: 1.0000 - val_loss: 0.1336\n",
      "Epoch 34/50\n",
      "3/3 - 0s - 21ms/step - accuracy: 1.0000 - loss: 0.1252 - val_accuracy: 1.0000 - val_loss: 0.1144\n",
      "Epoch 35/50\n",
      "3/3 - 0s - 22ms/step - accuracy: 1.0000 - loss: 0.1074 - val_accuracy: 1.0000 - val_loss: 0.0986\n",
      "Epoch 36/50\n",
      "3/3 - 0s - 22ms/step - accuracy: 1.0000 - loss: 0.0926 - val_accuracy: 1.0000 - val_loss: 0.0855\n",
      "Epoch 37/50\n",
      "3/3 - 0s - 22ms/step - accuracy: 1.0000 - loss: 0.0803 - val_accuracy: 1.0000 - val_loss: 0.0744\n",
      "Epoch 38/50\n",
      "3/3 - 0s - 21ms/step - accuracy: 1.0000 - loss: 0.0700 - val_accuracy: 1.0000 - val_loss: 0.0652\n",
      "Epoch 39/50\n",
      "3/3 - 0s - 21ms/step - accuracy: 1.0000 - loss: 0.0614 - val_accuracy: 1.0000 - val_loss: 0.0576\n",
      "Epoch 40/50\n",
      "3/3 - 0s - 21ms/step - accuracy: 1.0000 - loss: 0.0543 - val_accuracy: 1.0000 - val_loss: 0.0511\n",
      "Epoch 41/50\n",
      "3/3 - 0s - 21ms/step - accuracy: 1.0000 - loss: 0.0482 - val_accuracy: 1.0000 - val_loss: 0.0457\n",
      "Epoch 42/50\n",
      "3/3 - 0s - 21ms/step - accuracy: 1.0000 - loss: 0.0431 - val_accuracy: 1.0000 - val_loss: 0.0411\n",
      "Epoch 43/50\n",
      "3/3 - 0s - 21ms/step - accuracy: 1.0000 - loss: 0.0388 - val_accuracy: 1.0000 - val_loss: 0.0372\n",
      "Epoch 44/50\n",
      "3/3 - 0s - 21ms/step - accuracy: 1.0000 - loss: 0.0352 - val_accuracy: 1.0000 - val_loss: 0.0338\n",
      "Epoch 45/50\n",
      "3/3 - 0s - 22ms/step - accuracy: 1.0000 - loss: 0.0320 - val_accuracy: 1.0000 - val_loss: 0.0309\n",
      "Epoch 46/50\n",
      "3/3 - 0s - 24ms/step - accuracy: 1.0000 - loss: 0.0293 - val_accuracy: 1.0000 - val_loss: 0.0284\n",
      "Epoch 47/50\n",
      "3/3 - 0s - 23ms/step - accuracy: 1.0000 - loss: 0.0269 - val_accuracy: 1.0000 - val_loss: 0.0262\n",
      "Epoch 48/50\n",
      "3/3 - 0s - 25ms/step - accuracy: 1.0000 - loss: 0.0249 - val_accuracy: 1.0000 - val_loss: 0.0243\n",
      "Epoch 49/50\n",
      "3/3 - 0s - 21ms/step - accuracy: 1.0000 - loss: 0.0230 - val_accuracy: 1.0000 - val_loss: 0.0226\n",
      "Epoch 50/50\n",
      "3/3 - 0s - 21ms/step - accuracy: 1.0000 - loss: 0.0214 - val_accuracy: 1.0000 - val_loss: 0.0210\n"
     ]
    }
   ],
   "source": [
    "\n",
    "# Train the model\n",
    "history = model.fit(\n",
    "    train_sequences,\n",
    "    train_labels_encoded,\n",
    "    epochs=50,\n",
    "    batch_size=32,\n",
    "    validation_data=(test_sequences, test_labels_encoded),\n",
    "    callbacks=[early_stopping],\n",
    "    verbose=2\n",
    ")\n"
   ]
  }
 ],
 "metadata": {
  "kernelspec": {
   "display_name": "venv",
   "language": "python",
   "name": "python3"
  },
  "language_info": {
   "codemirror_mode": {
    "name": "ipython",
    "version": 3
   },
   "file_extension": ".py",
   "mimetype": "text/x-python",
   "name": "python",
   "nbconvert_exporter": "python",
   "pygments_lexer": "ipython3",
   "version": "3.11.8"
  }
 },
 "nbformat": 4,
 "nbformat_minor": 2
}
